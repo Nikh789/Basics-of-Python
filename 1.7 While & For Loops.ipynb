{
 "cells": [
  {
   "cell_type": "markdown",
   "id": "18cee9e6",
   "metadata": {},
   "source": [
    "# Loops"
   ]
  },
  {
   "cell_type": "code",
   "execution_count": 1,
   "id": "d196ebb6",
   "metadata": {},
   "outputs": [],
   "source": [
    "# WHILE- as long as the condition is true, a block of statements under while are executed repeatedly. \n",
    "# Once the condition is false the loop stops execution and control goes immediate next statement after while block "
   ]
  },
  {
   "cell_type": "code",
   "execution_count": 2,
   "id": "fea236ea",
   "metadata": {},
   "outputs": [
    {
     "name": "stdout",
     "output_type": "stream",
     "text": [
      "1\n",
      "2\n",
      "3\n",
      "4\n",
      "5\n"
     ]
    }
   ],
   "source": [
    "a = 1\n",
    "while a < 6:\n",
    "    print(a)\n",
    "    a = a+1"
   ]
  },
  {
   "cell_type": "code",
   "execution_count": 3,
   "id": "36c0097d",
   "metadata": {},
   "outputs": [
    {
     "name": "stdout",
     "output_type": "stream",
     "text": [
      "Hello World\n",
      "Hello World\n",
      "Hello World\n"
     ]
    }
   ],
   "source": [
    "count = 0\n",
    "while (count < 3):\n",
    "    count = count + 1\n",
    "    print(\"Hello World\")"
   ]
  },
  {
   "cell_type": "code",
   "execution_count": 4,
   "id": "b6b89ac8",
   "metadata": {},
   "outputs": [
    {
     "name": "stdout",
     "output_type": "stream",
     "text": [
      "A\n",
      "p\n",
      "p\n",
      "l\n",
      "e\n"
     ]
    }
   ],
   "source": [
    "i = 0\n",
    "s = 'Apple'\n",
    "while (i < len(s)):\n",
    "    print(s[i])\n",
    "    i += 1"
   ]
  },
  {
   "cell_type": "code",
   "execution_count": 5,
   "id": "551e413e",
   "metadata": {},
   "outputs": [],
   "source": [
    "# BREAK using the break statement we can stop the loop even if while condition is true "
   ]
  },
  {
   "cell_type": "code",
   "execution_count": null,
   "id": "70d75a7a",
   "metadata": {},
   "outputs": [],
   "source": []
  },
  {
   "cell_type": "code",
   "execution_count": 6,
   "id": "a7825cbd",
   "metadata": {},
   "outputs": [],
   "source": [
    "# CONTINUE with the continue statement we can stop the current iteration and continue with the next "
   ]
  },
  {
   "cell_type": "code",
   "execution_count": 7,
   "id": "aad098e0",
   "metadata": {},
   "outputs": [],
   "source": [
    "i == 0\n",
    "while i < 6:\n",
    "    i += 1\n",
    "    if i == 3:\n",
    "        continue\n",
    "        print(i)"
   ]
  },
  {
   "cell_type": "code",
   "execution_count": 8,
   "id": "9173d25e",
   "metadata": {},
   "outputs": [
    {
     "data": {
      "text/plain": [
       "4"
      ]
     },
     "execution_count": 8,
     "metadata": {},
     "output_type": "execute_result"
    }
   ],
   "source": [
    "a = 2\n",
    "b = 2\n",
    "c = a + b\n",
    "c"
   ]
  },
  {
   "cell_type": "code",
   "execution_count": null,
   "id": "a605f953",
   "metadata": {},
   "outputs": [],
   "source": [
    "# WHILE lopp with ELSE- The else part is executed if the condition in the while loop evaluated to False. \n",
    "# The while loop can be terminated with a break statement. In such case the else part is ignored. \n",
    "# Hence a while loop else part runs if no break occurs and the codition is false"
   ]
  },
  {
   "cell_type": "code",
   "execution_count": 11,
   "id": "14e0296e",
   "metadata": {},
   "outputs": [
    {
     "name": "stdout",
     "output_type": "stream",
     "text": [
      "1\n",
      "2\n",
      "3\n",
      "4\n",
      "5\n",
      "i is no longer less than 6\n"
     ]
    }
   ],
   "source": [
    "i = 1\n",
    "while i < 6:\n",
    "    print(i)\n",
    "    i += 1\n",
    "else:\n",
    "    print(\"i is no longer less than 6\")"
   ]
  },
  {
   "cell_type": "code",
   "execution_count": null,
   "id": "54e9c6c3",
   "metadata": {},
   "outputs": [],
   "source": [
    "# FOR Loop is used for iterating over a sequence \n",
    "# With for loop we can execute a set of statements  once for each item in a list, tuple, set, etc"
   ]
  },
  {
   "cell_type": "code",
   "execution_count": 12,
   "id": "dbd97c15",
   "metadata": {},
   "outputs": [
    {
     "name": "stdout",
     "output_type": "stream",
     "text": [
      "0\n",
      "1\n",
      "2\n",
      "3\n",
      "4\n"
     ]
    }
   ],
   "source": [
    "for i in range(5):\n",
    "    print(i)"
   ]
  },
  {
   "cell_type": "code",
   "execution_count": 13,
   "id": "d62db9d1",
   "metadata": {},
   "outputs": [
    {
     "name": "stdout",
     "output_type": "stream",
     "text": [
      "0\n",
      "5\n",
      "10\n",
      "15\n"
     ]
    }
   ],
   "source": [
    "for i in range(0, 20, 5):\n",
    "    print(i)"
   ]
  },
  {
   "cell_type": "code",
   "execution_count": 14,
   "id": "af4cbf95",
   "metadata": {},
   "outputs": [
    {
     "name": "stdout",
     "output_type": "stream",
     "text": [
      "H\n",
      "e\n",
      "l\n",
      "l\n",
      "o\n"
     ]
    }
   ],
   "source": [
    "# Loopong through a string\n",
    "# Even strings are iterable objects, they contain a sequence of characters \n",
    "for x in \"Hello\":\n",
    "    print(x)"
   ]
  },
  {
   "cell_type": "code",
   "execution_count": 20,
   "id": "3564e587",
   "metadata": {},
   "outputs": [
    {
     "name": "stdout",
     "output_type": "stream",
     "text": [
      "Hello\n",
      "World\n",
      "Welcome\n"
     ]
    }
   ],
   "source": [
    "# With the break statement we can stop the loop before it has looped through all the times\n",
    "abc = [\"Hello\", \"World\", \"Welcome\"]\n",
    "for x in abc:\n",
    "    print(x)\n",
    "    if x == \"Data\":\n",
    "        break"
   ]
  },
  {
   "cell_type": "code",
   "execution_count": 21,
   "id": "ea090e48",
   "metadata": {},
   "outputs": [],
   "source": [
    "# With the continue statement we can stop the current iteration of the loop and continue with the next \n",
    "abc = [\"Hello\", \"World\", \"Welcome\"]\n",
    "for x in abc:\n",
    "    if x == \"Hello\":\n",
    "        continue\n",
    "        print(x)"
   ]
  },
  {
   "cell_type": "code",
   "execution_count": 23,
   "id": "d3142113",
   "metadata": {},
   "outputs": [
    {
     "name": "stdout",
     "output_type": "stream",
     "text": [
      "0\n",
      "1\n",
      "2\n",
      "3\n",
      "4\n",
      "5\n"
     ]
    }
   ],
   "source": [
    "for x in range(6):\n",
    "    print(x)"
   ]
  },
  {
   "cell_type": "code",
   "execution_count": 24,
   "id": "35c62f77",
   "metadata": {},
   "outputs": [
    {
     "name": "stdout",
     "output_type": "stream",
     "text": [
      "2\n",
      "3\n",
      "4\n",
      "5\n"
     ]
    }
   ],
   "source": [
    "for x in range(2,6):\n",
    "    print(x)"
   ]
  },
  {
   "cell_type": "code",
   "execution_count": 25,
   "id": "421f6101",
   "metadata": {},
   "outputs": [
    {
     "name": "stdout",
     "output_type": "stream",
     "text": [
      "4\n",
      "8\n",
      "12\n",
      "16\n",
      "20\n",
      "24\n",
      "28\n",
      "32\n",
      "36\n",
      "40\n",
      "44\n",
      "48\n",
      "52\n",
      "56\n",
      "60\n",
      "64\n",
      "68\n",
      "72\n",
      "76\n"
     ]
    }
   ],
   "source": [
    "for x in range(4,80,4):\n",
    "    print(x)"
   ]
  },
  {
   "cell_type": "code",
   "execution_count": 29,
   "id": "ca37c886",
   "metadata": {},
   "outputs": [
    {
     "ename": "SyntaxError",
     "evalue": "invalid syntax (<ipython-input-29-e7f78acc63f2>, line 4)",
     "output_type": "error",
     "traceback": [
      "\u001b[1;36m  File \u001b[1;32m\"<ipython-input-29-e7f78acc63f2>\"\u001b[1;36m, line \u001b[1;32m4\u001b[0m\n\u001b[1;33m    else:\u001b[0m\n\u001b[1;37m    ^\u001b[0m\n\u001b[1;31mSyntaxError\u001b[0m\u001b[1;31m:\u001b[0m invalid syntax\n"
     ]
    }
   ],
   "source": [
    "# Else in for loop the else keyword in a for loop specifies a block of code to be executed when the loop is finished\n",
    "for x in range(6):\n",
    "    print(x)\n",
    "    else:\n",
    "    print(\"Loop Success\")"
   ]
  },
  {
   "cell_type": "code",
   "execution_count": 30,
   "id": "8e045dd2",
   "metadata": {},
   "outputs": [
    {
     "name": "stdout",
     "output_type": "stream",
     "text": [
      "Hello Welcome\n",
      "Hello to\n",
      "Hello DS\n",
      "World Welcome\n",
      "World to\n",
      "World DS\n"
     ]
    }
   ],
   "source": [
    "# Nested loops\n",
    "abc = [\"Hello\", \"World\"]\n",
    "xyz = [\"Welcome\", \"to\", \"DS\"]\n",
    "for x in abc:\n",
    "    for y in xyz:\n",
    "        print(x,y)\n",
    "    "
   ]
  },
  {
   "cell_type": "code",
   "execution_count": 31,
   "id": "c58334a2",
   "metadata": {},
   "outputs": [
    {
     "name": "stdout",
     "output_type": "stream",
     "text": [
      "Welcome\n",
      "to\n",
      "the\n",
      "class\n",
      "2\n",
      "4\n"
     ]
    }
   ],
   "source": [
    "a = [\"Welcome\", \"to\", \"the\", \"class\", 2, 4]\n",
    "for b in a:\n",
    "    print(b)"
   ]
  },
  {
   "cell_type": "code",
   "execution_count": 32,
   "id": "fb70a796",
   "metadata": {},
   "outputs": [
    {
     "data": {
      "text/plain": [
       "[(0, 'Welcome'), (1, 'to'), (2, 'the'), (3, 'class'), (4, 2), (5, 4)]"
      ]
     },
     "execution_count": 32,
     "metadata": {},
     "output_type": "execute_result"
    }
   ],
   "source": [
    "# Enumerate is a function which will assign the index to the values\n",
    "list(enumerate(a))"
   ]
  },
  {
   "cell_type": "code",
   "execution_count": 33,
   "id": "93aa4895",
   "metadata": {},
   "outputs": [
    {
     "name": "stdout",
     "output_type": "stream",
     "text": [
      "0 Welcome\n",
      "1 to\n",
      "2 the\n",
      "3 class\n",
      "4 2\n",
      "5 4\n"
     ]
    }
   ],
   "source": [
    "# Will use the same in for loop\n",
    "for index, value in enumerate(a):\n",
    "    print(index,value)"
   ]
  },
  {
   "cell_type": "code",
   "execution_count": null,
   "id": "9ee150a2",
   "metadata": {},
   "outputs": [],
   "source": []
  }
 ],
 "metadata": {
  "kernelspec": {
   "display_name": "Python 3",
   "language": "python",
   "name": "python3"
  },
  "language_info": {
   "codemirror_mode": {
    "name": "ipython",
    "version": 3
   },
   "file_extension": ".py",
   "mimetype": "text/x-python",
   "name": "python",
   "nbconvert_exporter": "python",
   "pygments_lexer": "ipython3",
   "version": "3.8.8"
  }
 },
 "nbformat": 4,
 "nbformat_minor": 5
}
