{
 "cells": [
  {
   "cell_type": "markdown",
   "id": "526d6950",
   "metadata": {},
   "source": [
    "# Control Structures"
   ]
  },
  {
   "cell_type": "code",
   "execution_count": 1,
   "id": "7a675ec7",
   "metadata": {},
   "outputs": [
    {
     "name": "stdout",
     "output_type": "stream",
     "text": [
      "b is greater than a\n"
     ]
    }
   ],
   "source": [
    "# IF statement\n",
    "a = 10\n",
    "b = 20\n",
    "if b > a:\n",
    "    print(\"b is greater than a\")"
   ]
  },
  {
   "cell_type": "code",
   "execution_count": 3,
   "id": "a6576182",
   "metadata": {},
   "outputs": [
    {
     "name": "stdout",
     "output_type": "stream",
     "text": [
      "x is less than 5\n"
     ]
    }
   ],
   "source": [
    "x = 3\n",
    "if x < 5:\n",
    "    print(\"x is less than 5\")"
   ]
  },
  {
   "cell_type": "code",
   "execution_count": 4,
   "id": "8ef4182b",
   "metadata": {},
   "outputs": [
    {
     "name": "stdout",
     "output_type": "stream",
     "text": [
      "No is positive\n",
      "This will print always\n"
     ]
    }
   ],
   "source": [
    "if -1:\n",
    "    print(\"No is positive\")\n",
    "    print(\"This will print always\")"
   ]
  },
  {
   "cell_type": "code",
   "execution_count": 6,
   "id": "15d0af63",
   "metadata": {},
   "outputs": [
    {
     "name": "stdout",
     "output_type": "stream",
     "text": [
      "x is greater than 5\n"
     ]
    }
   ],
   "source": [
    "# IF ELSE statement\n",
    "# When we want to execute two blocks of code exclusively we use if-else statement\n",
    "x = 12\n",
    "if x < 5:\n",
    "    print(\"x is less than 5\")\n",
    "else:\n",
    "        print(\"x is greater than 5\")"
   ]
  },
  {
   "cell_type": "code",
   "execution_count": 7,
   "id": "ab54eaaf",
   "metadata": {},
   "outputs": [
    {
     "name": "stdout",
     "output_type": "stream",
     "text": [
      "Negative Number\n"
     ]
    }
   ],
   "source": [
    "num = 0\n",
    "if num > 0:\n",
    "    print(\"Postive Number\")\n",
    "else:\n",
    "    print(\"Negative Number\")\n",
    "    "
   ]
  },
  {
   "cell_type": "code",
   "execution_count": 17,
   "id": "bbbb8e37",
   "metadata": {},
   "outputs": [
    {
     "name": "stdout",
     "output_type": "stream",
     "text": [
      "Enter x:11\n",
      "Even\n",
      "The End\n"
     ]
    }
   ],
   "source": [
    "x == int(input(\"Enter x:\"))\n",
    "if x%2 == 0:\n",
    "    print(\"Even\")\n",
    "else:\n",
    "    print(\"Odd\")\n",
    "print(\"The End\")"
   ]
  },
  {
   "cell_type": "code",
   "execution_count": 21,
   "id": "9f361f93",
   "metadata": {},
   "outputs": [
    {
     "name": "stdout",
     "output_type": "stream",
     "text": [
      "Above Ten,\n",
      "but not above 20.\n"
     ]
    }
   ],
   "source": [
    "# IF...ELIF...ELSE statement\n",
    "# The if statements are executed from top down\n",
    "# As soon as one of the conditions controlling the if is true, the statement associated with that if is executed\n",
    "# and the rest of the ladder is bypassed. If none of the conditions are true then the final else statement will be executed\n",
    "\n",
    "x = 19\n",
    "if x > 10:\n",
    "    print(\"Above Ten,\")\n",
    "if x > 20:\n",
    "    print(\"and also above Twenty.\")\n",
    "else:\n",
    "    print(\"but not above 20.\")\n",
    "        "
   ]
  },
  {
   "cell_type": "code",
   "execution_count": 26,
   "id": "8db031d8",
   "metadata": {},
   "outputs": [
    {
     "name": "stdout",
     "output_type": "stream",
     "text": [
      "a is 11\n",
      "In if condition\n",
      "out of condition\n"
     ]
    }
   ],
   "source": [
    "# NESTED IFELSE statement\n",
    "\n",
    "a = 12\n",
    "b = 13\n",
    "if(a > 11):\n",
    "    print(\"a is 11\")\n",
    "    print(\"In if condition\")\n",
    "elif(a == 9 and b<15):\n",
    "    print(\"a is greater than 9\")\n",
    "    print(\"In elif condition\")\n",
    "elif(a > 9 and b<15):\n",
    "    print(\"a is greater than 9\")\n",
    "    print(\"In elif 2 condition\")\n",
    "else: \n",
    "    print(\"No condition satisfies\")\n",
    "    print(\"In else condition\")\n",
    "print(\"out of condition\")\n",
    "    "
   ]
  },
  {
   "cell_type": "code",
   "execution_count": 27,
   "id": "d20eef84",
   "metadata": {},
   "outputs": [
    {
     "name": "stdout",
     "output_type": "stream",
     "text": [
      "i is 20\n"
     ]
    }
   ],
   "source": [
    "i = 20\n",
    "if(i==10):\n",
    "    print(\"i is 10\")\n",
    "elif(i==15):\n",
    "    print(\"is is 15\")\n",
    "elif(i==20):\n",
    "    print(\"i is 20\")\n",
    "else:\n",
    "    print(\"i is not present\")\n"
   ]
  },
  {
   "cell_type": "code",
   "execution_count": 34,
   "id": "b0791d38",
   "metadata": {},
   "outputs": [
    {
     "ename": "IndentationError",
     "evalue": "expected an indented block (<ipython-input-34-8b16493fd968>, line 5)",
     "output_type": "error",
     "traceback": [
      "\u001b[1;36m  File \u001b[1;32m\"<ipython-input-34-8b16493fd968>\"\u001b[1;36m, line \u001b[1;32m5\u001b[0m\n\u001b[1;33m    print(\"i is less than 15\")\u001b[0m\n\u001b[1;37m    ^\u001b[0m\n\u001b[1;31mIndentationError\u001b[0m\u001b[1;31m:\u001b[0m expected an indented block\n"
     ]
    }
   ],
   "source": [
    "# NESTED IF statement\n",
    "i = 12\n",
    "if(i == 10):\n",
    "    if(i < 15):\n",
    "    print(\"i is less than 15\")\n",
    "    if(i < 12):\n",
    "        print(\"i is less than 12 too\")\n",
    "    else:\n",
    "        print(\"i is greater than 15\")"
   ]
  },
  {
   "cell_type": "code",
   "execution_count": 37,
   "id": "41f104c4",
   "metadata": {},
   "outputs": [
    {
     "name": "stdout",
     "output_type": "stream",
     "text": [
      "Enter x:1441\n",
      "11 is a factor\n",
      "The End\n"
     ]
    }
   ],
   "source": [
    "# MULTIPLE IF CASE statements\n",
    "# The factors for a given number\n",
    "x = int(input(\"Enter x:\"))\n",
    "if x%3 == 0:\n",
    "    print(\"3 is a factor\")\n",
    "if x%7 == 0:\n",
    "    print(\"7 is a factor\")\n",
    "if x%11 == 0:\n",
    "    print(\"11 is a factor\")\n",
    "print(\"The End\")"
   ]
  },
  {
   "cell_type": "code",
   "execution_count": null,
   "id": "c3c6aff6",
   "metadata": {},
   "outputs": [],
   "source": []
  },
  {
   "cell_type": "code",
   "execution_count": null,
   "id": "9e53ec21",
   "metadata": {},
   "outputs": [],
   "source": []
  },
  {
   "cell_type": "code",
   "execution_count": null,
   "id": "a624c865",
   "metadata": {},
   "outputs": [],
   "source": []
  },
  {
   "cell_type": "code",
   "execution_count": null,
   "id": "b2b14243",
   "metadata": {},
   "outputs": [],
   "source": []
  }
 ],
 "metadata": {
  "kernelspec": {
   "display_name": "Python 3",
   "language": "python",
   "name": "python3"
  },
  "language_info": {
   "codemirror_mode": {
    "name": "ipython",
    "version": 3
   },
   "file_extension": ".py",
   "mimetype": "text/x-python",
   "name": "python",
   "nbconvert_exporter": "python",
   "pygments_lexer": "ipython3",
   "version": "3.8.8"
  }
 },
 "nbformat": 4,
 "nbformat_minor": 5
}
