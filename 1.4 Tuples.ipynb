{
 "cells": [
  {
   "cell_type": "markdown",
   "id": "305aec5e",
   "metadata": {},
   "source": [
    "# Tuples\n",
    "A Tuples is similar to a List\n",
    "The difference between the two is that we cant change the elements of tuple once it is assigned where \n",
    "as in list elements can be changed\n",
    "Tuple is immutable\n",
    "Tuples are put in parenthesis while lists are put in square bracekts"
   ]
  },
  {
   "cell_type": "code",
   "execution_count": 3,
   "id": "6c817c40",
   "metadata": {},
   "outputs": [
    {
     "data": {
      "text/plain": [
       "(1, 2, 'hello', True)"
      ]
     },
     "execution_count": 3,
     "metadata": {},
     "output_type": "execute_result"
    }
   ],
   "source": [
    "t1 = (1, 2, \"hello\", True)\n",
    "t1"
   ]
  },
  {
   "cell_type": "code",
   "execution_count": 4,
   "id": "0f7f09ad",
   "metadata": {},
   "outputs": [
    {
     "data": {
      "text/plain": [
       "2"
      ]
     },
     "execution_count": 4,
     "metadata": {},
     "output_type": "execute_result"
    }
   ],
   "source": [
    "# Access tuple items with indexing numbering\n",
    "t1[1]"
   ]
  },
  {
   "cell_type": "code",
   "execution_count": 5,
   "id": "db607aa7",
   "metadata": {},
   "outputs": [
    {
     "data": {
      "text/plain": [
       "True"
      ]
     },
     "execution_count": 5,
     "metadata": {},
     "output_type": "execute_result"
    }
   ],
   "source": [
    "# Negative index refers the tuple from the last item\n",
    "t1[-1]"
   ]
  },
  {
   "cell_type": "code",
   "execution_count": 8,
   "id": "0f8d6edf",
   "metadata": {},
   "outputs": [
    {
     "data": {
      "text/plain": [
       "(2, 'hello')"
      ]
     },
     "execution_count": 8,
     "metadata": {},
     "output_type": "execute_result"
    }
   ],
   "source": [
    "# Range of index\n",
    "t1[-3:-1]"
   ]
  },
  {
   "cell_type": "code",
   "execution_count": 9,
   "id": "6e0174c2",
   "metadata": {},
   "outputs": [
    {
     "data": {
      "text/plain": [
       "4"
      ]
     },
     "execution_count": 9,
     "metadata": {},
     "output_type": "execute_result"
    }
   ],
   "source": [
    "# Length of tuple\n",
    "len(t1)"
   ]
  },
  {
   "cell_type": "code",
   "execution_count": 11,
   "id": "5835d0c8",
   "metadata": {},
   "outputs": [
    {
     "ename": "TypeError",
     "evalue": "'tuple' object does not support item assignment",
     "output_type": "error",
     "traceback": [
      "\u001b[1;31m---------------------------------------------------------------------------\u001b[0m",
      "\u001b[1;31mTypeError\u001b[0m                                 Traceback (most recent call last)",
      "\u001b[1;32m<ipython-input-11-e9ea79eea5f5>\u001b[0m in \u001b[0;36m<module>\u001b[1;34m\u001b[0m\n\u001b[0;32m      1\u001b[0m \u001b[1;31m# To add items\u001b[0m\u001b[1;33m\u001b[0m\u001b[1;33m\u001b[0m\u001b[1;33m\u001b[0m\u001b[0m\n\u001b[1;32m----> 2\u001b[1;33m \u001b[0mt1\u001b[0m\u001b[1;33m[\u001b[0m\u001b[1;36m3\u001b[0m\u001b[1;33m]\u001b[0m \u001b[1;33m=\u001b[0m \u001b[1;32mFalse\u001b[0m\u001b[1;33m\u001b[0m\u001b[1;33m\u001b[0m\u001b[0m\n\u001b[0m",
      "\u001b[1;31mTypeError\u001b[0m: 'tuple' object does not support item assignment"
     ]
    }
   ],
   "source": [
    "# To add items\n",
    "t1[3] = False"
   ]
  },
  {
   "cell_type": "code",
   "execution_count": 12,
   "id": "1a3828bf",
   "metadata": {},
   "outputs": [],
   "source": [
    "# To remove the tuple\n",
    "del(t1)"
   ]
  },
  {
   "cell_type": "markdown",
   "id": "dac2370c",
   "metadata": {},
   "source": [
    "t1"
   ]
  },
  {
   "cell_type": "code",
   "execution_count": 14,
   "id": "28553afc",
   "metadata": {},
   "outputs": [
    {
     "data": {
      "text/plain": [
       "(1, 2, 'hello', True, False, 'World')"
      ]
     },
     "execution_count": 14,
     "metadata": {},
     "output_type": "execute_result"
    }
   ],
   "source": [
    "t1 = (1, 2, \"hello\", True)\n",
    "t2 = (False, \"World\")\n",
    "t3 = t1+t2\n",
    "t3"
   ]
  },
  {
   "cell_type": "code",
   "execution_count": 15,
   "id": "382a4a42",
   "metadata": {},
   "outputs": [
    {
     "data": {
      "text/plain": [
       "1"
      ]
     },
     "execution_count": 15,
     "metadata": {},
     "output_type": "execute_result"
    }
   ],
   "source": [
    "# Count no of times a word is repeating\n",
    "t3.count(2)"
   ]
  },
  {
   "cell_type": "code",
   "execution_count": 16,
   "id": "812d73d3",
   "metadata": {},
   "outputs": [
    {
     "data": {
      "text/plain": [
       "2"
      ]
     },
     "execution_count": 16,
     "metadata": {},
     "output_type": "execute_result"
    }
   ],
   "source": [
    "# To find the index no of an item in the tuple\n",
    "t3.index(\"hello\")"
   ]
  },
  {
   "cell_type": "code",
   "execution_count": 20,
   "id": "3312cd83",
   "metadata": {},
   "outputs": [
    {
     "data": {
      "text/plain": [
       "(2,)"
      ]
     },
     "execution_count": 20,
     "metadata": {},
     "output_type": "execute_result"
    }
   ],
   "source": [
    "# Tuple with one value end with comma\n",
    "t4 = (2,)\n",
    "t4"
   ]
  },
  {
   "cell_type": "code",
   "execution_count": 21,
   "id": "007898f9",
   "metadata": {},
   "outputs": [
    {
     "data": {
      "text/plain": [
       "(1, (2, 3, 4), [1, 'hello', 'world', 28, 'abc'])"
      ]
     },
     "execution_count": 21,
     "metadata": {},
     "output_type": "execute_result"
    }
   ],
   "source": [
    "# Nested tuple\n",
    "# Index of first tu# rple=0, second=1, third=2,...\n",
    "t5 = (1,(2,3,4),[1,\"hello\",\"world\",28,'abc'])\n",
    "t5\n"
   ]
  },
  {
   "cell_type": "code",
   "execution_count": 22,
   "id": "c88ca289",
   "metadata": {},
   "outputs": [
    {
     "data": {
      "text/plain": [
       "('hello', 'hello', 'hello', 'hello')"
      ]
     },
     "execution_count": 22,
     "metadata": {},
     "output_type": "execute_result"
    }
   ],
   "source": [
    "# Repeat the elements in a tuple for a given number of times using the * operator\n",
    "t6 = ((\"hello\",)*4)\n",
    "t6"
   ]
  },
  {
   "cell_type": "code",
   "execution_count": 23,
   "id": "d51890f4",
   "metadata": {},
   "outputs": [
    {
     "data": {
      "text/plain": [
       "[1, 2, 3, 4, 5, 6]"
      ]
     },
     "execution_count": 23,
     "metadata": {},
     "output_type": "execute_result"
    }
   ],
   "source": [
    "# Tuple sort\n",
    "t7 = (3,2,1,5,6,4)\n",
    "t8 = sorted(t7)\n",
    "t8"
   ]
  },
  {
   "cell_type": "code",
   "execution_count": 24,
   "id": "4d0199f4",
   "metadata": {},
   "outputs": [
    {
     "data": {
      "text/plain": [
       "6"
      ]
     },
     "execution_count": 24,
     "metadata": {},
     "output_type": "execute_result"
    }
   ],
   "source": [
    "# Largest elements\n",
    "max(t8)"
   ]
  },
  {
   "cell_type": "code",
   "execution_count": 25,
   "id": "54ff2b21",
   "metadata": {},
   "outputs": [
    {
     "data": {
      "text/plain": [
       "1"
      ]
     },
     "execution_count": 25,
     "metadata": {},
     "output_type": "execute_result"
    }
   ],
   "source": [
    "# Smallest elements\n",
    "min(t8)"
   ]
  },
  {
   "cell_type": "code",
   "execution_count": 26,
   "id": "87fcd26b",
   "metadata": {},
   "outputs": [
    {
     "name": "stdout",
     "output_type": "stream",
     "text": [
      "tuple\n",
      "1\n",
      "2\n",
      "3\n",
      "4\n",
      "5\n"
     ]
    }
   ],
   "source": [
    "# For loop using tuple\n",
    "t = (1,2,3,4,5)\n",
    "print('tuple')\n",
    "for x in t:\n",
    "    print(x)"
   ]
  },
  {
   "cell_type": "code",
   "execution_count": null,
   "id": "add9d70f",
   "metadata": {},
   "outputs": [],
   "source": []
  }
 ],
 "metadata": {
  "kernelspec": {
   "display_name": "Python 3",
   "language": "python",
   "name": "python3"
  },
  "language_info": {
   "codemirror_mode": {
    "name": "ipython",
    "version": 3
   },
   "file_extension": ".py",
   "mimetype": "text/x-python",
   "name": "python",
   "nbconvert_exporter": "python",
   "pygments_lexer": "ipython3",
   "version": "3.8.8"
  }
 },
 "nbformat": 4,
 "nbformat_minor": 5
}
