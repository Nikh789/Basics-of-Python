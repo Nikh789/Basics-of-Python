{
 "cells": [
  {
   "cell_type": "markdown",
   "id": "a19e21a7",
   "metadata": {},
   "source": [
    "# Functions"
   ]
  },
  {
   "cell_type": "code",
   "execution_count": 2,
   "id": "93eedffd",
   "metadata": {},
   "outputs": [],
   "source": [
    "# Function is a reusable code\n",
    "# A block of code which runs only when it is called\n",
    "# A function can return data as Result\n",
    "# def is keyword used to define the function\n",
    "# Syntax for function\n",
    "#              def functionName():\n",
    "#                   //Code"
   ]
  },
  {
   "cell_type": "code",
   "execution_count": 1,
   "id": "35722f99",
   "metadata": {},
   "outputs": [],
   "source": [
    "def hello():\n",
    "    print(\"ABC\")\n",
    "    print(\"XYZ\")\n",
    "    print(\"PQR\")"
   ]
  },
  {
   "cell_type": "code",
   "execution_count": 2,
   "id": "c8d21d09",
   "metadata": {},
   "outputs": [
    {
     "name": "stdout",
     "output_type": "stream",
     "text": [
      "ABC\n",
      "XYZ\n",
      "PQR\n"
     ]
    }
   ],
   "source": [
    "hello()"
   ]
  },
  {
   "cell_type": "code",
   "execution_count": 7,
   "id": "bc5e56d0",
   "metadata": {},
   "outputs": [],
   "source": [
    "def sum():\n",
    "    a = 10\n",
    "    b = 20\n",
    "    c = a + b\n",
    "    print(\"C\")"
   ]
  },
  {
   "cell_type": "code",
   "execution_count": 8,
   "id": "2e622a5e",
   "metadata": {},
   "outputs": [
    {
     "name": "stdout",
     "output_type": "stream",
     "text": [
      "C\n"
     ]
    }
   ],
   "source": [
    "sum()"
   ]
  },
  {
   "cell_type": "raw",
   "id": "0f712179",
   "metadata": {},
   "source": [
    "# RETURN Statement\n",
    "In order to print anything in the function we cannot directly use function name we have to use 'return' statement\n",
    "The return statement is used to exit a function and go back to the place from where it is called \n",
    "Syntax:\n",
    "return [expression]\n",
    "Return statement can contain an expression which gets evaluated and the value is returned "
   ]
  },
  {
   "cell_type": "code",
   "execution_count": 11,
   "id": "9ce8e2dd",
   "metadata": {},
   "outputs": [],
   "source": [
    "def sum():\n",
    "    a = 10\n",
    "    b = 20\n",
    "    c = a+b\n",
    "    return c"
   ]
  },
  {
   "cell_type": "code",
   "execution_count": 12,
   "id": "8660e62c",
   "metadata": {},
   "outputs": [
    {
     "data": {
      "text/plain": [
       "30"
      ]
     },
     "execution_count": 12,
     "metadata": {},
     "output_type": "execute_result"
    }
   ],
   "source": [
    "sum()"
   ]
  },
  {
   "cell_type": "code",
   "execution_count": 15,
   "id": "0379ab3e",
   "metadata": {},
   "outputs": [],
   "source": [
    "def cal():\n",
    "    a = 10\n",
    "    b = 20\n",
    "    c = a + b\n",
    "    d = a * b\n",
    "    return c, d"
   ]
  },
  {
   "cell_type": "code",
   "execution_count": 16,
   "id": "dfde2208",
   "metadata": {},
   "outputs": [
    {
     "data": {
      "text/plain": [
       "(30, 200)"
      ]
     },
     "execution_count": 16,
     "metadata": {},
     "output_type": "execute_result"
    }
   ],
   "source": [
    "cal()"
   ]
  },
  {
   "cell_type": "code",
   "execution_count": 35,
   "id": "81ca6eba",
   "metadata": {},
   "outputs": [],
   "source": [
    "def word():\n",
    "    a = \"Hello\"\n",
    "    b = \" World\"\n",
    "    c = a + b\n",
    "    return c"
   ]
  },
  {
   "cell_type": "code",
   "execution_count": 36,
   "id": "8f449bb4",
   "metadata": {},
   "outputs": [
    {
     "data": {
      "text/plain": [
       "'Hello World'"
      ]
     },
     "execution_count": 36,
     "metadata": {},
     "output_type": "execute_result"
    }
   ],
   "source": [
    "word()"
   ]
  },
  {
   "cell_type": "code",
   "execution_count": 37,
   "id": "179c7d27",
   "metadata": {},
   "outputs": [],
   "source": [
    "# ARGUMENTS\n",
    "# Information can be passed into functions as Arguments\n",
    "# Arguments are specified after the function name, inside the parenthesis. \n",
    "# You can add as many arguments as you want just separate them with comma"
   ]
  },
  {
   "cell_type": "code",
   "execution_count": 38,
   "id": "2e4feff7",
   "metadata": {},
   "outputs": [],
   "source": [
    "def arg(Func):\n",
    "    print(Func + \" World\")"
   ]
  },
  {
   "cell_type": "code",
   "execution_count": 39,
   "id": "dec5228e",
   "metadata": {},
   "outputs": [
    {
     "name": "stdout",
     "output_type": "stream",
     "text": [
      "Hello World\n"
     ]
    }
   ],
   "source": [
    "arg(\"Hello\")"
   ]
  },
  {
   "cell_type": "code",
   "execution_count": 40,
   "id": "8f9d6ba2",
   "metadata": {},
   "outputs": [],
   "source": [
    "# When variable should be given while calling the function we can give arguments\n",
    "def sum(a,b):\n",
    "    return a+b, a-b"
   ]
  },
  {
   "cell_type": "code",
   "execution_count": 41,
   "id": "e7d8f184",
   "metadata": {},
   "outputs": [
    {
     "data": {
      "text/plain": [
       "(14, 10)"
      ]
     },
     "execution_count": 41,
     "metadata": {},
     "output_type": "execute_result"
    }
   ],
   "source": [
    "# We can give the values in run time when we are using arguments methos\n",
    "sum(12,2)"
   ]
  },
  {
   "cell_type": "code",
   "execution_count": 42,
   "id": "87829205",
   "metadata": {},
   "outputs": [],
   "source": [
    "# Types of Arguments:\n",
    "\n",
    "# 1. Default Arguments\n",
    "# 2. Positional Arguments\n",
    "# 3. Reference Arguments\n",
    "# 4. Arbitrary Arguments\n",
    "# 5. Keyword Arguments"
   ]
  },
  {
   "cell_type": "code",
   "execution_count": 52,
   "id": "1c4918a3",
   "metadata": {},
   "outputs": [
    {
     "name": "stdout",
     "output_type": "stream",
     "text": [
      "I'm from Sweden\n"
     ]
    }
   ],
   "source": [
    "# 1. Default Arguments- we will provide the defualt value in the function\n",
    "\n",
    "def my_function(country = \" Norway\"):\n",
    "    print(\"I'm from\" + country)\n",
    "my_function(\" Sweden\")"
   ]
  },
  {
   "cell_type": "code",
   "execution_count": 53,
   "id": "256d05c5",
   "metadata": {},
   "outputs": [],
   "source": [
    "# 2. Positional Arguments- Arguments that can be called by their position in the function definition\n",
    "\n",
    "def test(name, age, city):\n",
    "    print(\"name\", name)\n",
    "    print(\"age\", age)\n",
    "    print(\"city\", city)"
   ]
  },
  {
   "cell_type": "code",
   "execution_count": 54,
   "id": "ee6659db",
   "metadata": {},
   "outputs": [
    {
     "name": "stdout",
     "output_type": "stream",
     "text": [
      "name Kai\n",
      "age 25\n",
      "city Japan\n"
     ]
    }
   ],
   "source": [
    "test(\"Kai\", 25, \"Japan\")"
   ]
  },
  {
   "cell_type": "code",
   "execution_count": 55,
   "id": "a71999f0",
   "metadata": {},
   "outputs": [],
   "source": [
    "# 3. Reference Arguments- reference value will be passed as argument in function\n",
    "def ref(n, a, c):\n",
    "    print(\"name\", n)\n",
    "    print(\"age\", a)\n",
    "    print(\"city\", c)\n"
   ]
  },
  {
   "cell_type": "code",
   "execution_count": 56,
   "id": "ba982e08",
   "metadata": {},
   "outputs": [
    {
     "name": "stdout",
     "output_type": "stream",
     "text": [
      "name Kai\n",
      "age 25\n",
      "city Japan\n"
     ]
    }
   ],
   "source": [
    "ref(n = \"Kai\", a = 25, c = \"Japan\")"
   ]
  },
  {
   "cell_type": "code",
   "execution_count": 57,
   "id": "b3353c04",
   "metadata": {},
   "outputs": [],
   "source": [
    "# c = Hyd will be called as Non-Default arguments which should be giving at the end of function\n",
    "def ref1(n,a,c=\"Hyd\"):\n",
    "    print(\"Name:\",n)\n",
    "    print(\"Age:\",a)\n",
    "    print(\"City:\",c)"
   ]
  },
  {
   "cell_type": "code",
   "execution_count": 58,
   "id": "b6fa7387",
   "metadata": {},
   "outputs": [
    {
     "name": "stdout",
     "output_type": "stream",
     "text": [
      "Name: Kai\n",
      "Age: 25\n",
      "City: Hyd\n"
     ]
    }
   ],
   "source": [
    "ref1(n=\"Kai\", a=25)"
   ]
  },
  {
   "cell_type": "code",
   "execution_count": 62,
   "id": "57e0ed6d",
   "metadata": {},
   "outputs": [
    {
     "name": "stdout",
     "output_type": "stream",
     "text": [
      "('Ram', 'Sita', 'Lak')\n"
     ]
    }
   ],
   "source": [
    "# 4. Arbitrary Arguments- Pass multiple arguments in a single functionIf you do not know how mant keyword arguments \n",
    "# that will be passed into your function, add an asterisk before the parameter name in the function definition\n",
    "def func(*names):\n",
    "    print(names)\n",
    "func(\"Ram\", \"Sita\", \"Lak\")\n"
   ]
  },
  {
   "cell_type": "code",
   "execution_count": 64,
   "id": "93fb2d81",
   "metadata": {},
   "outputs": [
    {
     "name": "stdout",
     "output_type": "stream",
     "text": [
      "My name is Ram\n",
      "My name is Sita\n",
      "My name is Lak\n"
     ]
    }
   ],
   "source": [
    "# 5. Keyword Arguments- \n",
    "def karg(name1, name2, name3):\n",
    "    print(\"My name is \" + name1)\n",
    "    print(\"My name is \" + name2)\n",
    "    print(\"My name is \" + name3)\n",
    "karg(name1= \"Ram\", name2= \"Sita\", name3= \"Lak\")"
   ]
  },
  {
   "cell_type": "code",
   "execution_count": 66,
   "id": "f3123d39",
   "metadata": {},
   "outputs": [
    {
     "name": "stdout",
     "output_type": "stream",
     "text": [
      "<class 'dict'>\n",
      "{'a': 20, 'b': 30, 'c': 40, 'd': 50}\n"
     ]
    }
   ],
   "source": [
    "# kwargs allows you to pass keyworded variable length of arguments to a function\n",
    "# You should use \"**kwargs\" if you want to handle named arguments in a function\n",
    "\n",
    "def add(**kwargs):\n",
    "    print(type(kwargs))\n",
    "    print(kwargs)\n",
    "add(a=20, b=30, c=40, d=50)"
   ]
  },
  {
   "cell_type": "code",
   "execution_count": 67,
   "id": "89f10aed",
   "metadata": {},
   "outputs": [],
   "source": [
    "def data(name, **data):\n",
    "    print(\"Name\", name)\n",
    "    print(\"Data:\", data)"
   ]
  },
  {
   "cell_type": "code",
   "execution_count": 68,
   "id": "ba144fbf",
   "metadata": {},
   "outputs": [
    {
     "name": "stdout",
     "output_type": "stream",
     "text": [
      "Name Apple\n",
      "Data: {}\n"
     ]
    }
   ],
   "source": [
    "data(\"Apple\")"
   ]
  },
  {
   "cell_type": "code",
   "execution_count": 69,
   "id": "22c984cd",
   "metadata": {},
   "outputs": [
    {
     "name": "stdout",
     "output_type": "stream",
     "text": [
      "Name Apple\n",
      "Data: {'age': 6}\n"
     ]
    }
   ],
   "source": [
    "data(\"Apple\", age=6)"
   ]
  },
  {
   "cell_type": "code",
   "execution_count": 71,
   "id": "28b219df",
   "metadata": {},
   "outputs": [
    {
     "name": "stdout",
     "output_type": "stream",
     "text": [
      "Enter the number:12\n"
     ]
    }
   ],
   "source": [
    "# INPUT Function= defualt input function is used to take input from the user\n",
    "inp = input(\"Enter the number:\")"
   ]
  },
  {
   "cell_type": "code",
   "execution_count": 72,
   "id": "2071115d",
   "metadata": {},
   "outputs": [
    {
     "data": {
      "text/plain": [
       "'12'"
      ]
     },
     "execution_count": 72,
     "metadata": {},
     "output_type": "execute_result"
    }
   ],
   "source": [
    "inp"
   ]
  },
  {
   "cell_type": "code",
   "execution_count": 73,
   "id": "401ba2a1",
   "metadata": {},
   "outputs": [
    {
     "data": {
      "text/plain": [
       "str"
      ]
     },
     "execution_count": 73,
     "metadata": {},
     "output_type": "execute_result"
    }
   ],
   "source": [
    "type(inp)"
   ]
  },
  {
   "cell_type": "code",
   "execution_count": 74,
   "id": "c01e39fa",
   "metadata": {},
   "outputs": [
    {
     "name": "stdout",
     "output_type": "stream",
     "text": [
      "Please enter a:12\n",
      "Entered number is: 12\n"
     ]
    }
   ],
   "source": [
    "a = input(\"Please enter a:\")\n",
    "print(\"Entered number is:\", a)"
   ]
  },
  {
   "cell_type": "code",
   "execution_count": null,
   "id": "57cf51a4",
   "metadata": {},
   "outputs": [],
   "source": []
  }
 ],
 "metadata": {
  "kernelspec": {
   "display_name": "Python 3",
   "language": "python",
   "name": "python3"
  },
  "language_info": {
   "codemirror_mode": {
    "name": "ipython",
    "version": 3
   },
   "file_extension": ".py",
   "mimetype": "text/x-python",
   "name": "python",
   "nbconvert_exporter": "python",
   "pygments_lexer": "ipython3",
   "version": "3.8.8"
  }
 },
 "nbformat": 4,
 "nbformat_minor": 5
}
