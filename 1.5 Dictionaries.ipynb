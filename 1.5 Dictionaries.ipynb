{
 "cells": [
  {
   "cell_type": "markdown",
   "id": "7861c7d7",
   "metadata": {},
   "source": [
    "# Dictionay"
   ]
  },
  {
   "cell_type": "code",
   "execution_count": null,
   "id": "dca73bc0",
   "metadata": {},
   "outputs": [],
   "source": [
    "# Python dictionary is an unordered collection of items\n",
    "Data types have only value as an element, a dictionary has a key: value pair\n",
    "Use square brackets"
   ]
  },
  {
   "cell_type": "code",
   "execution_count": 2,
   "id": "67ee006c",
   "metadata": {},
   "outputs": [
    {
     "data": {
      "text/plain": [
       "{'color': 'green', 'points': 5}"
      ]
     },
     "execution_count": 2,
     "metadata": {},
     "output_type": "execute_result"
    }
   ],
   "source": [
    "alien = {'color':'green','points':5}\n",
    "alien"
   ]
  },
  {
   "cell_type": "code",
   "execution_count": 3,
   "id": "c8acf196",
   "metadata": {},
   "outputs": [
    {
     "data": {
      "text/plain": [
       "'green'"
      ]
     },
     "execution_count": 3,
     "metadata": {},
     "output_type": "execute_result"
    }
   ],
   "source": [
    "alien['color']"
   ]
  },
  {
   "cell_type": "code",
   "execution_count": 4,
   "id": "1a905414",
   "metadata": {},
   "outputs": [
    {
     "ename": "KeyError",
     "evalue": "'name'",
     "output_type": "error",
     "traceback": [
      "\u001b[1;31m---------------------------------------------------------------------------\u001b[0m",
      "\u001b[1;31mKeyError\u001b[0m                                  Traceback (most recent call last)",
      "\u001b[1;32m<ipython-input-4-5c4bc73a8c32>\u001b[0m in \u001b[0;36m<module>\u001b[1;34m\u001b[0m\n\u001b[0;32m      1\u001b[0m \u001b[1;31m# If the key is not available it will give error\u001b[0m\u001b[1;33m\u001b[0m\u001b[1;33m\u001b[0m\u001b[1;33m\u001b[0m\u001b[0m\n\u001b[1;32m----> 2\u001b[1;33m \u001b[0malien\u001b[0m\u001b[1;33m[\u001b[0m\u001b[1;34m'name'\u001b[0m\u001b[1;33m]\u001b[0m\u001b[1;33m\u001b[0m\u001b[1;33m\u001b[0m\u001b[0m\n\u001b[0m",
      "\u001b[1;31mKeyError\u001b[0m: 'name'"
     ]
    }
   ],
   "source": [
    "# If the key is not available it will give KeyError\n",
    "alien['name']"
   ]
  },
  {
   "cell_type": "code",
   "execution_count": 5,
   "id": "90ef7e45",
   "metadata": {},
   "outputs": [
    {
     "name": "stdout",
     "output_type": "stream",
     "text": [
      "5\n"
     ]
    }
   ],
   "source": [
    "# Another way of accessing the key\n",
    "print(alien.get('points'))"
   ]
  },
  {
   "cell_type": "code",
   "execution_count": 6,
   "id": "67f91245",
   "metadata": {},
   "outputs": [
    {
     "data": {
      "text/plain": [
       "{'name': 'krish', 'age': 25, 'color': 'green', 'points': 5}"
      ]
     },
     "execution_count": 6,
     "metadata": {},
     "output_type": "execute_result"
    }
   ],
   "source": [
    "dict = {'name':'krish','age':25,'color':'green','points':5}\n",
    "dict"
   ]
  },
  {
   "cell_type": "code",
   "execution_count": 7,
   "id": "c2665a75",
   "metadata": {},
   "outputs": [
    {
     "data": {
      "text/plain": [
       "{'name': 'krish', 'color': 'green', 'points': 5}"
      ]
     },
     "execution_count": 7,
     "metadata": {},
     "output_type": "execute_result"
    }
   ],
   "source": [
    "# Remove the element with value\n",
    "dict.pop('age')\n",
    "dict"
   ]
  },
  {
   "cell_type": "code",
   "execution_count": 8,
   "id": "1fca88f4",
   "metadata": {},
   "outputs": [
    {
     "data": {
      "text/plain": [
       "{'name': 'krish', 'color': 'yellow', 'points': 5}"
      ]
     },
     "execution_count": 8,
     "metadata": {},
     "output_type": "execute_result"
    }
   ],
   "source": [
    "# Update dict\n",
    "dict['color']='yellow'\n",
    "dict"
   ]
  },
  {
   "cell_type": "code",
   "execution_count": 9,
   "id": "1318bfdc",
   "metadata": {},
   "outputs": [
    {
     "data": {
      "text/plain": [
       "{'name': 'krish', 'color': 'yellow', 'points': 5, 'salary': 50000}"
      ]
     },
     "execution_count": 9,
     "metadata": {},
     "output_type": "execute_result"
    }
   ],
   "source": [
    "dict['salary']=50000\n",
    "dict"
   ]
  },
  {
   "cell_type": "code",
   "execution_count": 10,
   "id": "9f8dab06",
   "metadata": {},
   "outputs": [
    {
     "data": {
      "text/plain": [
       "{'name': 'krish', 'color': 'yellow', 'points': 5, 'salary': 50000}"
      ]
     },
     "execution_count": 10,
     "metadata": {},
     "output_type": "execute_result"
    }
   ],
   "source": [
    "dup = dict.copy()\n",
    "dup"
   ]
  },
  {
   "cell_type": "code",
   "execution_count": 12,
   "id": "f7afcb15",
   "metadata": {},
   "outputs": [
    {
     "data": {
      "text/plain": [
       "{'Alpha': {'name': 'alpha.com', 'year': 2004},\n",
       " 'beta': {'name': 'beta.com', 'year': 2007},\n",
       " 'gamma': {'name': 'gamma.com', 'year': 2011}}"
      ]
     },
     "execution_count": 12,
     "metadata": {},
     "output_type": "execute_result"
    }
   ],
   "source": [
    "# Nested dict\n",
    "Ndict = {\n",
    "    \"Alpha\" : {\n",
    "    \"name\" : \"alpha.com\",\n",
    "    \"year\" : 2004\n",
    "},\n",
    "    \"beta\" : {\n",
    "    \"name\" : \"beta.com\",\n",
    "    \"year\" : 2007\n",
    "},\n",
    "    \"gamma\" : {\n",
    "    \"name\" : \"gamma.com\",\n",
    "    \"year\" : 2011\n",
    "    }\n",
    "}\n",
    "Ndict"
   ]
  },
  {
   "cell_type": "code",
   "execution_count": null,
   "id": "6a91b5a5",
   "metadata": {},
   "outputs": [],
   "source": []
  },
  {
   "cell_type": "code",
   "execution_count": null,
   "id": "75f504ee",
   "metadata": {},
   "outputs": [],
   "source": []
  }
 ],
 "metadata": {
  "kernelspec": {
   "display_name": "Python 3",
   "language": "python",
   "name": "python3"
  },
  "language_info": {
   "codemirror_mode": {
    "name": "ipython",
    "version": 3
   },
   "file_extension": ".py",
   "mimetype": "text/x-python",
   "name": "python",
   "nbconvert_exporter": "python",
   "pygments_lexer": "ipython3",
   "version": "3.8.8"
  }
 },
 "nbformat": 4,
 "nbformat_minor": 5
}
